{
 "cells": [
  {
   "cell_type": "code",
   "execution_count": null,
   "id": "f815f239",
   "metadata": {
    "pycharm": {
     "name": "#%%\n"
    }
   },
   "outputs": [],
   "source": [
    "#cloning repo\n",
    "git clone https://github.com/guillelm64/IronGuillermo.git"
   ]
  },
  {
   "cell_type": "code",
   "execution_count": null,
   "id": "4d29a39c",
   "metadata": {
    "pycharm": {
     "name": "#%%\n"
    }
   },
   "outputs": [],
   "source": [
    "#create file\n",
    "touch about.txt\n",
    "echo \"I'm addicted to tic tac candy\" > about.txt"
   ]
  },
  {
   "cell_type": "code",
   "execution_count": null,
   "id": "13f5597c",
   "metadata": {
    "pycharm": {
     "name": "#%%\n"
    }
   },
   "outputs": [],
   "source": [
    "#add file\n",
    "git add about.txt"
   ]
  },
  {
   "cell_type": "code",
   "execution_count": null,
   "id": "b5fba965",
   "metadata": {
    "pycharm": {
     "name": "#%%\n"
    }
   },
   "outputs": [],
   "source": [
    "#commit file\n",
    "git commit -m \"about\""
   ]
  },
  {
   "cell_type": "code",
   "execution_count": null,
   "id": "b073e15b",
   "metadata": {
    "pycharm": {
     "name": "#%%\n"
    }
   },
   "outputs": [],
   "source": [
    "#push changes\n",
    "git push origin main"
   ]
  },
  {
   "cell_type": "code",
   "execution_count": null,
   "id": "2285bfe2",
   "metadata": {
    "pycharm": {
     "name": "#%%\n"
    }
   },
   "outputs": [],
   "source": [
    "#pair programming"
   ]
  },
  {
   "cell_type": "code",
   "execution_count": null,
   "id": "f12b862d",
   "metadata": {
    "pycharm": {
     "name": "#%%\n"
    }
   },
   "outputs": [],
   "source": [
    "#clone repository\n",
    "git clone https://github.com/guillelm64/IronAlfon.git"
   ]
  },
  {
   "cell_type": "code",
   "execution_count": null,
   "id": "f47985a3",
   "metadata": {
    "pycharm": {
     "name": "#%%\n"
    }
   },
   "outputs": [],
   "source": [
    "#new branch\n",
    "git checkout classmate"
   ]
  },
  {
   "cell_type": "code",
   "execution_count": null,
   "id": "46ac1c66",
   "metadata": {
    "pycharm": {
     "name": "#%%\n"
    }
   },
   "outputs": [],
   "source": [
    "#create new file and finish sentence\n",
    "touch guille.txt\n",
    "echo \"I enrolled Ironhack's Data Analytics bootcamp because I want to change my career path\" > guille.txt\n"
   ]
  },
  {
   "cell_type": "code",
   "execution_count": null,
   "id": "8051ab51",
   "metadata": {
    "pycharm": {
     "name": "#%%\n"
    }
   },
   "outputs": [],
   "source": [
    "#add changes\n",
    "git add guille.txt"
   ]
  },
  {
   "cell_type": "code",
   "execution_count": null,
   "id": "2cf16e47",
   "metadata": {
    "pycharm": {
     "name": "#%%\n"
    }
   },
   "outputs": [],
   "source": [
    "#commit and push\n",
    "git commit -m \"why ironhack\"\n",
    "git push origin classmate "
   ]
  },
  {
   "cell_type": "code",
   "execution_count": null,
   "id": "009ae2ae",
   "metadata": {
    "pycharm": {
     "name": "#%%\n"
    }
   },
   "outputs": [],
   "source": []
  },
  {
   "cell_type": "code",
   "execution_count": null,
   "id": "5ed49766",
   "metadata": {
    "pycharm": {
     "name": "#%%\n"
    }
   },
   "outputs": [],
   "source": []
  }
 ],
 "metadata": {
  "kernelspec": {
   "display_name": "Python 3 (ipykernel)",
   "language": "python",
   "name": "python3"
  },
  "language_info": {
   "codemirror_mode": {
    "name": "ipython",
    "version": 3
   },
   "file_extension": ".py",
   "mimetype": "text/x-python",
   "name": "python",
   "nbconvert_exporter": "python",
   "pygments_lexer": "ipython3",
   "version": "3.9.12"
  }
 },
 "nbformat": 4,
 "nbformat_minor": 5
}